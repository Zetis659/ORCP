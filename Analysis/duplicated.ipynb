{
 "cells": [
  {
   "cell_type": "code",
   "execution_count": 1,
   "metadata": {},
   "outputs": [],
   "source": [
    "import pandas as pd\n",
    "import os"
   ]
  },
  {
   "cell_type": "code",
   "execution_count": 2,
   "metadata": {},
   "outputs": [],
   "source": [
    "# Получите текущий каталог блокнота Jupyter\n",
    "current_dir = os.getcwd()\n",
    "\n",
    "# Сформируйте путь к файлу CSV относительно текущего каталога\n",
    "csv_path = os.path.join(current_dir, '../SRC/Parsing/Results/Data/all_cars.csv')\n"
   ]
  },
  {
   "cell_type": "code",
   "execution_count": 3,
   "metadata": {},
   "outputs": [],
   "source": [
    "df = pd.read_csv(csv_path)"
   ]
  },
  {
   "cell_type": "code",
   "execution_count": 8,
   "metadata": {},
   "outputs": [
    {
     "data": {
      "text/plain": [
       "(376094, 39)"
      ]
     },
     "execution_count": 8,
     "metadata": {},
     "output_type": "execute_result"
    }
   ],
   "source": [
    "df.shape"
   ]
  },
  {
   "cell_type": "code",
   "execution_count": 9,
   "metadata": {},
   "outputs": [
    {
     "data": {
      "text/html": [
       "<div>\n",
       "<style scoped>\n",
       "    .dataframe tbody tr th:only-of-type {\n",
       "        vertical-align: middle;\n",
       "    }\n",
       "\n",
       "    .dataframe tbody tr th {\n",
       "        vertical-align: top;\n",
       "    }\n",
       "\n",
       "    .dataframe thead th {\n",
       "        text-align: right;\n",
       "    }\n",
       "</style>\n",
       "<table border=\"1\" class=\"dataframe\">\n",
       "  <thead>\n",
       "    <tr style=\"text-align: right;\">\n",
       "      <th></th>\n",
       "      <th>brand</th>\n",
       "      <th>model</th>\n",
       "      <th>year</th>\n",
       "      <th>generation</th>\n",
       "      <th>engine_type</th>\n",
       "      <th>drive_type</th>\n",
       "      <th>transmission</th>\n",
       "      <th>engine_capacity_liters</th>\n",
       "      <th>engine_capacity_cubic</th>\n",
       "      <th>engine_power</th>\n",
       "      <th>...</th>\n",
       "      <th>owners</th>\n",
       "      <th>pts</th>\n",
       "      <th>days_on_sale</th>\n",
       "      <th>seller</th>\n",
       "      <th>price_segment</th>\n",
       "      <th>start_sales</th>\n",
       "      <th>end_sales</th>\n",
       "      <th>price_pred_from</th>\n",
       "      <th>price_pred_to</th>\n",
       "      <th>id;</th>\n",
       "    </tr>\n",
       "  </thead>\n",
       "  <tbody>\n",
       "    <tr>\n",
       "      <th>0</th>\n",
       "      <td>LADA (ВАЗ)</td>\n",
       "      <td>Granta</td>\n",
       "      <td>2018</td>\n",
       "      <td>I Рестайлинг</td>\n",
       "      <td>GASOLINE</td>\n",
       "      <td>FORWARD_CONTROL</td>\n",
       "      <td>MECHANICAL</td>\n",
       "      <td>1.6</td>\n",
       "      <td>1596</td>\n",
       "      <td>87</td>\n",
       "      <td>...</td>\n",
       "      <td>2</td>\n",
       "      <td>ORIGINAL</td>\n",
       "      <td>1</td>\n",
       "      <td>PRIVATE</td>\n",
       "      <td>ECONOMY</td>\n",
       "      <td>2018</td>\n",
       "      <td>NaN</td>\n",
       "      <td>NaN</td>\n",
       "      <td>NaN</td>\n",
       "      <td>1119922415-692bca60;</td>\n",
       "    </tr>\n",
       "    <tr>\n",
       "      <th>1</th>\n",
       "      <td>LADA (ВАЗ)</td>\n",
       "      <td>Granta</td>\n",
       "      <td>2018</td>\n",
       "      <td>I Рестайлинг</td>\n",
       "      <td>GASOLINE</td>\n",
       "      <td>FORWARD_CONTROL</td>\n",
       "      <td>MECHANICAL</td>\n",
       "      <td>1.6</td>\n",
       "      <td>1596</td>\n",
       "      <td>87</td>\n",
       "      <td>...</td>\n",
       "      <td>1</td>\n",
       "      <td>ORIGINAL</td>\n",
       "      <td>16</td>\n",
       "      <td>COMMERCIAL</td>\n",
       "      <td>ECONOMY</td>\n",
       "      <td>2018</td>\n",
       "      <td>NaN</td>\n",
       "      <td>596000.0</td>\n",
       "      <td>614000.0</td>\n",
       "      <td>1119740369-33477ff9;</td>\n",
       "    </tr>\n",
       "    <tr>\n",
       "      <th>2</th>\n",
       "      <td>LADA (ВАЗ)</td>\n",
       "      <td>Granta</td>\n",
       "      <td>2018</td>\n",
       "      <td>I Рестайлинг</td>\n",
       "      <td>GASOLINE</td>\n",
       "      <td>FORWARD_CONTROL</td>\n",
       "      <td>MECHANICAL</td>\n",
       "      <td>1.6</td>\n",
       "      <td>1596</td>\n",
       "      <td>87</td>\n",
       "      <td>...</td>\n",
       "      <td>2</td>\n",
       "      <td>ORIGINAL</td>\n",
       "      <td>2</td>\n",
       "      <td>COMMERCIAL</td>\n",
       "      <td>ECONOMY</td>\n",
       "      <td>2018</td>\n",
       "      <td>NaN</td>\n",
       "      <td>484000.0</td>\n",
       "      <td>505000.0</td>\n",
       "      <td>1119914087-8895f380;</td>\n",
       "    </tr>\n",
       "    <tr>\n",
       "      <th>3</th>\n",
       "      <td>LADA (ВАЗ)</td>\n",
       "      <td>Granta</td>\n",
       "      <td>2018</td>\n",
       "      <td>I Рестайлинг</td>\n",
       "      <td>GASOLINE</td>\n",
       "      <td>FORWARD_CONTROL</td>\n",
       "      <td>MECHANICAL</td>\n",
       "      <td>1.6</td>\n",
       "      <td>1596</td>\n",
       "      <td>87</td>\n",
       "      <td>...</td>\n",
       "      <td>1</td>\n",
       "      <td>ORIGINAL</td>\n",
       "      <td>3</td>\n",
       "      <td>COMMERCIAL</td>\n",
       "      <td>ECONOMY</td>\n",
       "      <td>2018</td>\n",
       "      <td>NaN</td>\n",
       "      <td>533000.0</td>\n",
       "      <td>550000.0</td>\n",
       "      <td>1119899236-76599a34;</td>\n",
       "    </tr>\n",
       "    <tr>\n",
       "      <th>4</th>\n",
       "      <td>LADA (ВАЗ)</td>\n",
       "      <td>Granta</td>\n",
       "      <td>2018</td>\n",
       "      <td>I Рестайлинг</td>\n",
       "      <td>GASOLINE</td>\n",
       "      <td>FORWARD_CONTROL</td>\n",
       "      <td>ROBOT</td>\n",
       "      <td>1.6</td>\n",
       "      <td>1596</td>\n",
       "      <td>106</td>\n",
       "      <td>...</td>\n",
       "      <td>1</td>\n",
       "      <td>ORIGINAL</td>\n",
       "      <td>53</td>\n",
       "      <td>COMMERCIAL</td>\n",
       "      <td>ECONOMY</td>\n",
       "      <td>2018</td>\n",
       "      <td>NaN</td>\n",
       "      <td>610000.0</td>\n",
       "      <td>628000.0</td>\n",
       "      <td>1119326437-de9d1a40;</td>\n",
       "    </tr>\n",
       "  </tbody>\n",
       "</table>\n",
       "<p>5 rows × 39 columns</p>\n",
       "</div>"
      ],
      "text/plain": [
       "        brand   model  year    generation engine_type       drive_type  \\\n",
       "0  LADA (ВАЗ)  Granta  2018  I Рестайлинг    GASOLINE  FORWARD_CONTROL   \n",
       "1  LADA (ВАЗ)  Granta  2018  I Рестайлинг    GASOLINE  FORWARD_CONTROL   \n",
       "2  LADA (ВАЗ)  Granta  2018  I Рестайлинг    GASOLINE  FORWARD_CONTROL   \n",
       "3  LADA (ВАЗ)  Granta  2018  I Рестайлинг    GASOLINE  FORWARD_CONTROL   \n",
       "4  LADA (ВАЗ)  Granta  2018  I Рестайлинг    GASOLINE  FORWARD_CONTROL   \n",
       "\n",
       "  transmission  engine_capacity_liters  engine_capacity_cubic  engine_power  \\\n",
       "0   MECHANICAL                     1.6                   1596            87   \n",
       "1   MECHANICAL                     1.6                   1596            87   \n",
       "2   MECHANICAL                     1.6                   1596            87   \n",
       "3   MECHANICAL                     1.6                   1596            87   \n",
       "4        ROBOT                     1.6                   1596           106   \n",
       "\n",
       "   ... owners       pts days_on_sale      seller price_segment  start_sales  \\\n",
       "0  ...      2  ORIGINAL            1     PRIVATE       ECONOMY         2018   \n",
       "1  ...      1  ORIGINAL           16  COMMERCIAL       ECONOMY         2018   \n",
       "2  ...      2  ORIGINAL            2  COMMERCIAL       ECONOMY         2018   \n",
       "3  ...      1  ORIGINAL            3  COMMERCIAL       ECONOMY         2018   \n",
       "4  ...      1  ORIGINAL           53  COMMERCIAL       ECONOMY         2018   \n",
       "\n",
       "   end_sales  price_pred_from  price_pred_to                   id;  \n",
       "0        NaN              NaN            NaN  1119922415-692bca60;  \n",
       "1        NaN         596000.0       614000.0  1119740369-33477ff9;  \n",
       "2        NaN         484000.0       505000.0  1119914087-8895f380;  \n",
       "3        NaN         533000.0       550000.0  1119899236-76599a34;  \n",
       "4        NaN         610000.0       628000.0  1119326437-de9d1a40;  \n",
       "\n",
       "[5 rows x 39 columns]"
      ]
     },
     "execution_count": 9,
     "metadata": {},
     "output_type": "execute_result"
    }
   ],
   "source": [
    "df.head()"
   ]
  },
  {
   "cell_type": "code",
   "execution_count": 4,
   "metadata": {},
   "outputs": [
    {
     "data": {
      "text/plain": [
       "96981"
      ]
     },
     "execution_count": 4,
     "metadata": {},
     "output_type": "execute_result"
    }
   ],
   "source": [
    "df['id;'].nunique()"
   ]
  },
  {
   "cell_type": "code",
   "execution_count": 5,
   "metadata": {},
   "outputs": [],
   "source": [
    "duplicate_rows = df[df.duplicated(subset=['id;'], keep=False)]"
   ]
  },
  {
   "cell_type": "code",
   "execution_count": 6,
   "metadata": {},
   "outputs": [
    {
     "data": {
      "text/plain": [
       "brand                     330582\n",
       "model                     330582\n",
       "year                      330582\n",
       "generation                263460\n",
       "engine_type               330582\n",
       "drive_type                330582\n",
       "transmission              330582\n",
       "engine_capacity_liters    330582\n",
       "engine_capacity_cubic     330582\n",
       "engine_power              330582\n",
       "availability              330578\n",
       "mileage                   330582\n",
       "color                     330582\n",
       "car_type                  330582\n",
       "condition                 330582\n",
       "price                     330582\n",
       "prise_usd                 330582\n",
       "price_euro                330582\n",
       "tax                       324998\n",
       "region                    330582\n",
       "car_class                 329627\n",
       "body_type                 330582\n",
       "doors_count               330582\n",
       "trunk_volume              259991\n",
       "steering_wheel            330582\n",
       "clearance                 321856\n",
       "acceleration              304681\n",
       "vendor                    330582\n",
       "customs_cleared           330582\n",
       "owners                    330582\n",
       "pts                       323005\n",
       "days_on_sale              330582\n",
       "seller                    330582\n",
       "price_segment             330582\n",
       "start_sales               330582\n",
       "end_sales                 228075\n",
       "price_pred_from           289647\n",
       "price_pred_to             289696\n",
       "id;                       330582\n",
       "dtype: int64"
      ]
     },
     "execution_count": 6,
     "metadata": {},
     "output_type": "execute_result"
    }
   ],
   "source": [
    "duplicate_rows.count()"
   ]
  },
  {
   "cell_type": "code",
   "execution_count": null,
   "metadata": {},
   "outputs": [],
   "source": []
  }
 ],
 "metadata": {
  "kernelspec": {
   "display_name": "pt",
   "language": "python",
   "name": "python3"
  },
  "language_info": {
   "codemirror_mode": {
    "name": "ipython",
    "version": 3
   },
   "file_extension": ".py",
   "mimetype": "text/x-python",
   "name": "python",
   "nbconvert_exporter": "python",
   "pygments_lexer": "ipython3",
   "version": "3.10.12"
  }
 },
 "nbformat": 4,
 "nbformat_minor": 2
}
